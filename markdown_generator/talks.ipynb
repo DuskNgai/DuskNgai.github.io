{
 "cells": [
  {
   "cell_type": "markdown",
   "metadata": {
    "deletable": true,
    "editable": true
   },
   "source": [
    "# Talks markdown generator for academicpages\n",
    "\n",
    "Takes a TSV of talks with metadata and converts them for use with [academicpages.github.io](academicpages.github.io). This is an interactive Jupyter notebook ([see more info here](http://jupyter-notebook-beginner-guide.readthedocs.io/en/latest/what_is_jupyter.html)). The core python code is also in `talks.py`. Run either from the `markdown_generator` folder after replacing `talks.tsv` with one containing your data.\n",
    "\n",
    "TODO: Make this work with BibTex and other databases, rather than Stuart's non-standard TSV format and citation style."
   ]
  },
  {
   "cell_type": "code",
   "execution_count": 1,
   "metadata": {
    "collapsed": false,
    "deletable": true,
    "editable": true
   },
   "outputs": [],
   "source": [
    "import pandas as pd\n",
    "import os"
   ]
  },
  {
   "cell_type": "markdown",
   "metadata": {},
   "source": [
    "## Data format\n",
    "\n",
    "The TSV needs to have the following columns: title, type, url_slug, venue, date, location, talk_url, description, with a header at the top. Many of these fields can be blank, but the columns must be in the TSV.\n",
    "\n",
    "- Fields that cannot be blank: `title`, `url_slug`, `date`. All else can be blank. `type` defaults to \"Talk\" \n",
    "- `date` must be formatted as YYYY-MM-DD.\n",
    "- `url_slug` will be the descriptive part of the .md file and the permalink URL for the page about the paper. \n",
    "    - The .md file will be `YYYY-MM-DD-[url_slug].md` and the permalink will be `https://[yourdomain]/talks/YYYY-MM-DD-[url_slug]`\n",
    "    - The combination of `url_slug` and `date` must be unique, as it will be the basis for your filenames\n",
    "\n",
    "This is how the raw file looks (it doesn't look pretty, use a spreadsheet or other program to edit and create)."
   ]
  },
  {
   "cell_type": "code",
   "execution_count": 2,
   "metadata": {
    "collapsed": false
   },
   "outputs": [
    {
     "name": "stdout",
     "output_type": "stream",
     "text": [
      "\u001b[0mtitle\u001b[0m   \u001b[0mtype\u001b[0m    \u001b[0murl_slug\u001b[0m        \u001b[0mvenue\u001b[0m   \u001b[0mdate\u001b[0m    \u001b[0mlocation\u001b[0m        \u001b[0mpdf_url\u001b[0m \u001b[0mmd_url\u001b[0m  \u001b[0mdescription\u001b[0m\u001b[1;33m\n",
      "\u001b[0m\u001b[0mTutorial\u001b[0m \u001b[0mon\u001b[0m \u001b[0mVolume\u001b[0m \u001b[0mRendering\u001b[0m    \u001b[0mTutorial\u001b[0m        \u001b[0mtutorial\u001b[0m\u001b[1;33m-\u001b[0m\u001b[1;36m1\u001b[0m      \u001b[0mShanghaiTech\u001b[0m    \u001b[1;36m2022\u001b[0m\u001b[1;33m-\u001b[0m\u001b[1;36m0\u001b[0m\u001b[1;36m8\u001b[0m\u001b[1;33m-\u001b[0m\u001b[1;36m19\u001b[0m      \u001b[0mShanghai\u001b[0m        \u001b[0mhttps\u001b[0m\u001b[1;33m:\u001b[0m\u001b[1;33m//\u001b[0m\u001b[0mDuskNgai\u001b[0m\u001b[1;33m.\u001b[0m\u001b[0mgithub\u001b[0m\u001b[1;33m.\u001b[0m\u001b[0mio\u001b[0m\u001b[1;33m/\u001b[0m\u001b[0mfiles\u001b[0m\u001b[1;33m/\u001b[0m\u001b[0mVolume\u001b[0m \u001b[0mRendering\u001b[0m\u001b[1;33m.\u001b[0m\u001b[0mpdf\u001b[0m   \u001b[0mhttps\u001b[0m\u001b[1;33m:\u001b[0m\u001b[1;33m//\u001b[0m\u001b[0mDuskNgai\u001b[0m\u001b[1;33m.\u001b[0m\u001b[0mgithub\u001b[0m\u001b[1;33m.\u001b[0m\u001b[0mio\u001b[0m\u001b[1;33m/\u001b[0m\u001b[0mfiles\u001b[0m\u001b[1;33m/\u001b[0m\u001b[0mVolume\u001b[0m \u001b[0mRendering\u001b[0m\u001b[1;33m.\u001b[0m\u001b[0mmd\u001b[0m    \u001b[0mA\u001b[0m \u001b[0mphysically\u001b[0m \u001b[0mbased\u001b[0m \u001b[0mrendering\u001b[0m \u001b[0mtechnique\u001b[0m \u001b[0mused\u001b[0m \u001b[1;32min\u001b[0m \u001b[0mNeRF\u001b[0m\u001b[1;33m.\u001b[0m\u001b[1;33m\n",
      "\u001b[0m\u001b[0mTutorial\u001b[0m \u001b[0mon\u001b[0m \u001b[0mNeural\u001b[0m \u001b[0mRadiance\u001b[0m \u001b[0mField\u001b[0m       \u001b[0mTutorial\u001b[0m        \u001b[0mtutorial\u001b[0m\u001b[1;33m-\u001b[0m\u001b[1;36m1\u001b[0m      \u001b[0mShanghaiTech\u001b[0m    \u001b[1;36m2022\u001b[0m\u001b[1;33m-\u001b[0m\u001b[1;36m0\u001b[0m\u001b[1;36m8\u001b[0m\u001b[1;33m-\u001b[0m\u001b[1;36m26\u001b[0m      \u001b[0mShanghai\u001b[0m        \u001b[0mhttps\u001b[0m\u001b[1;33m:\u001b[0m\u001b[1;33m//\u001b[0m\u001b[0mDuskNgai\u001b[0m\u001b[1;33m.\u001b[0m\u001b[0mgithub\u001b[0m\u001b[1;33m.\u001b[0m\u001b[0mio\u001b[0m\u001b[1;33m/\u001b[0m\u001b[0mfiles\u001b[0m\u001b[1;33m/\u001b[0m\u001b[0mNeural\u001b[0m \u001b[0mRadiance\u001b[0m \u001b[0mField\u001b[0m\u001b[1;33m.\u001b[0m\u001b[0mpdf\u001b[0m      \u001b[0mhttps\u001b[0m\u001b[1;33m:\u001b[0m\u001b[1;33m//\u001b[0m\u001b[0mDuskNgai\u001b[0m\u001b[1;33m.\u001b[0m\u001b[0mgithub\u001b[0m\u001b[1;33m.\u001b[0m\u001b[0mio\u001b[0m\u001b[1;33m/\u001b[0m\u001b[0mfiles\u001b[0m\u001b[1;33m/\u001b[0m\u001b[0mNeural\u001b[0m \u001b[0mRadiance\u001b[0m \u001b[0mField\u001b[0m\u001b[1;33m.\u001b[0m\u001b[0mmd\u001b[0m       \u001b[1;34m\"A novel, data-driven solution to the long-standing problem in computer graphics of the realistic rendering of virtual worlds.\"\u001b[0m\u001b[1;33m\n",
      "\u001b[0m\u001b[0mTalk\u001b[0m \u001b[0mon\u001b[0m \u001b[0mNeural\u001b[0m \u001b[0mRadiance\u001b[0m \u001b[0mCaching\u001b[0m \u001b[0mTalk\u001b[0m    \u001b[0mtalk\u001b[0m\u001b[1;33m-\u001b[0m\u001b[1;36m1\u001b[0m  \u001b[0mShanghaiTech\u001b[0m    \u001b[1;36m2022\u001b[0m\u001b[1;33m-\u001b[0m\u001b[1;36m12\u001b[0m\u001b[1;33m-\u001b[0m\u001b[1;36m0\u001b[0m\u001b[1;36m1\u001b[0m      \u001b[0mShanghai\u001b[0m        \u001b[0mhttps\u001b[0m\u001b[1;33m:\u001b[0m\u001b[1;33m//\u001b[0m\u001b[0mDuskNgai\u001b[0m\u001b[1;33m.\u001b[0m\u001b[0mgithub\u001b[0m\u001b[1;33m.\u001b[0m\u001b[0mio\u001b[0m\u001b[1;33m/\u001b[0m\u001b[0mfiles\u001b[0m\u001b[1;33m/\u001b[0m\u001b[0mReal\u001b[0m\u001b[1;33m-\u001b[0m\u001b[0mtime\u001b[0m \u001b[0mNeural\u001b[0m \u001b[0mRadiance\u001b[0m \u001b[0mCaching\u001b[0m \u001b[1;32mfor\u001b[0m \u001b[0mPath\u001b[0m \u001b[0mTracing\u001b[0m\u001b[1;33m.\u001b[0m\u001b[0mpdf\u001b[0m \u001b[0mhttps\u001b[0m\u001b[1;33m:\u001b[0m\u001b[1;33m//\u001b[0m\u001b[0mDuskNgai\u001b[0m\u001b[1;33m.\u001b[0m\u001b[0mgithub\u001b[0m\u001b[1;33m.\u001b[0m\u001b[0mio\u001b[0m\u001b[1;33m/\u001b[0m\u001b[0mfiles\u001b[0m\u001b[1;33m/\u001b[0m\u001b[0mReal\u001b[0m\u001b[1;33m-\u001b[0m\u001b[0mtime\u001b[0m \u001b[0mNeural\u001b[0m \u001b[0mRadiance\u001b[0m \u001b[0mCaching\u001b[0m \u001b[1;32mfor\u001b[0m \u001b[0mPath\u001b[0m \u001b[0mTracing\u001b[0m\u001b[1;33m.\u001b[0m\u001b[0mmd\u001b[0m  \u001b[0mA\u001b[0m \u001b[0mtask\u001b[0m \u001b[0magnostic\u001b[0m \u001b[0mnerual\u001b[0m \u001b[0mnetwork\u001b[0m \u001b[0mstorage\u001b[0m \u001b[0mreplacing\u001b[0m \u001b[1;32mfor\u001b[0m \u001b[0mcombersome\u001b[0m \u001b[0mcaching\u001b[0m \u001b[0mstructure\u001b[0m\u001b[1;33m.\u001b[0m\u001b[1;33m\u001b[0m\u001b[1;33m\u001b[0m\u001b[0m\n"
     ]
    }
   ],
   "source": [
    "%pycat talks.tsv"
   ]
  },
  {
   "cell_type": "markdown",
   "metadata": {},
   "source": [
    "## Import TSV\n",
    "\n",
    "Pandas makes this easy with the read_csv function. We are using a TSV, so we specify the separator as a tab, or `\\t`.\n",
    "\n",
    "I found it important to put this data in a tab-separated values format, because there are a lot of commas in this kind of data and comma-separated values can get messed up. However, you can modify the import statement, as pandas also has read_excel(), read_json(), and others."
   ]
  },
  {
   "cell_type": "code",
   "execution_count": 3,
   "metadata": {
    "collapsed": false,
    "deletable": true,
    "editable": true
   },
   "outputs": [
    {
     "data": {
      "text/html": [
       "<div>\n",
       "<style scoped>\n",
       "    .dataframe tbody tr th:only-of-type {\n",
       "        vertical-align: middle;\n",
       "    }\n",
       "\n",
       "    .dataframe tbody tr th {\n",
       "        vertical-align: top;\n",
       "    }\n",
       "\n",
       "    .dataframe thead th {\n",
       "        text-align: right;\n",
       "    }\n",
       "</style>\n",
       "<table border=\"1\" class=\"dataframe\">\n",
       "  <thead>\n",
       "    <tr style=\"text-align: right;\">\n",
       "      <th></th>\n",
       "      <th>title</th>\n",
       "      <th>type</th>\n",
       "      <th>url_slug</th>\n",
       "      <th>venue</th>\n",
       "      <th>date</th>\n",
       "      <th>location</th>\n",
       "      <th>pdf_url</th>\n",
       "      <th>md_url</th>\n",
       "      <th>description</th>\n",
       "    </tr>\n",
       "  </thead>\n",
       "  <tbody>\n",
       "    <tr>\n",
       "      <th>0</th>\n",
       "      <td>Tutorial on Volume Rendering</td>\n",
       "      <td>Tutorial</td>\n",
       "      <td>tutorial-1</td>\n",
       "      <td>ShanghaiTech</td>\n",
       "      <td>2022-08-19</td>\n",
       "      <td>Shanghai</td>\n",
       "      <td>https://DuskNgai.github.io/files/Volume Render...</td>\n",
       "      <td>https://DuskNgai.github.io/files/Volume Render...</td>\n",
       "      <td>A physically based rendering technique used in...</td>\n",
       "    </tr>\n",
       "    <tr>\n",
       "      <th>1</th>\n",
       "      <td>Tutorial on Neural Radiance Field</td>\n",
       "      <td>Tutorial</td>\n",
       "      <td>tutorial-1</td>\n",
       "      <td>ShanghaiTech</td>\n",
       "      <td>2022-08-26</td>\n",
       "      <td>Shanghai</td>\n",
       "      <td>https://DuskNgai.github.io/files/Neural Radian...</td>\n",
       "      <td>https://DuskNgai.github.io/files/Neural Radian...</td>\n",
       "      <td>A novel, data-driven solution to the long-stan...</td>\n",
       "    </tr>\n",
       "    <tr>\n",
       "      <th>2</th>\n",
       "      <td>Talk on Neural Radiance Caching</td>\n",
       "      <td>Talk</td>\n",
       "      <td>talk-1</td>\n",
       "      <td>ShanghaiTech</td>\n",
       "      <td>2022-12-01</td>\n",
       "      <td>Shanghai</td>\n",
       "      <td>https://DuskNgai.github.io/files/Real-time Neu...</td>\n",
       "      <td>https://DuskNgai.github.io/files/Real-time Neu...</td>\n",
       "      <td>A task agnostic nerual network storage replaci...</td>\n",
       "    </tr>\n",
       "  </tbody>\n",
       "</table>\n",
       "</div>"
      ],
      "text/plain": [
       "                               title      type    url_slug         venue  \\\n",
       "0       Tutorial on Volume Rendering  Tutorial  tutorial-1  ShanghaiTech   \n",
       "1  Tutorial on Neural Radiance Field  Tutorial  tutorial-1  ShanghaiTech   \n",
       "2    Talk on Neural Radiance Caching      Talk      talk-1  ShanghaiTech   \n",
       "\n",
       "         date  location                                            pdf_url  \\\n",
       "0  2022-08-19  Shanghai  https://DuskNgai.github.io/files/Volume Render...   \n",
       "1  2022-08-26  Shanghai  https://DuskNgai.github.io/files/Neural Radian...   \n",
       "2  2022-12-01  Shanghai  https://DuskNgai.github.io/files/Real-time Neu...   \n",
       "\n",
       "                                              md_url  \\\n",
       "0  https://DuskNgai.github.io/files/Volume Render...   \n",
       "1  https://DuskNgai.github.io/files/Neural Radian...   \n",
       "2  https://DuskNgai.github.io/files/Real-time Neu...   \n",
       "\n",
       "                                         description  \n",
       "0  A physically based rendering technique used in...  \n",
       "1  A novel, data-driven solution to the long-stan...  \n",
       "2  A task agnostic nerual network storage replaci...  "
      ]
     },
     "execution_count": 3,
     "metadata": {},
     "output_type": "execute_result"
    }
   ],
   "source": [
    "talks = pd.read_csv(\"talks.tsv\", sep=\"\\t\", header=0)\n",
    "talks"
   ]
  },
  {
   "cell_type": "markdown",
   "metadata": {},
   "source": [
    "## Escape special characters\n",
    "\n",
    "YAML is very picky about how it takes a valid string, so we are replacing single and double quotes (and ampersands) with their HTML encoded equivilents. This makes them look not so readable in raw format, but they are parsed and rendered nicely."
   ]
  },
  {
   "cell_type": "code",
   "execution_count": 4,
   "metadata": {
    "collapsed": false,
    "deletable": true,
    "editable": true
   },
   "outputs": [],
   "source": [
    "html_escape_table = {\n",
    "    \"&\": \"&amp;\",\n",
    "    '\"': \"&quot;\",\n",
    "    \"'\": \"&apos;\"\n",
    "    }\n",
    "\n",
    "def html_escape(text):\n",
    "    if type(text) is str:\n",
    "        return \"\".join(html_escape_table.get(c,c) for c in text)\n",
    "    else:\n",
    "        return \"False\""
   ]
  },
  {
   "cell_type": "markdown",
   "metadata": {},
   "source": [
    "## Creating the markdown files\n",
    "\n",
    "This is where the heavy lifting is done. This loops through all the rows in the TSV dataframe, then starts to concatentate a big string (```md```) that contains the markdown for each type. It does the YAML metadata first, then does the description for the individual page."
   ]
  },
  {
   "cell_type": "code",
   "execution_count": 5,
   "metadata": {
    "collapsed": false,
    "deletable": true,
    "editable": true
   },
   "outputs": [],
   "source": [
    "loc_dict = {}\n",
    "\n",
    "for row, item in talks.iterrows():\n",
    "    \n",
    "    md_filename = str(item.date) + \"-\" + item.url_slug + \".md\"\n",
    "    html_filename = str(item.date) + \"-\" + item.url_slug \n",
    "    year = item.date[:4]\n",
    "    \n",
    "    md = \"---\\ntitle: \\\"\"   + item.title + '\"\\n'\n",
    "    md += \"collection: talks\" + \"\\n\"\n",
    "    \n",
    "    if len(str(item.type)) > 3:\n",
    "        md += 'type: \"' + item.type + '\"\\n'\n",
    "    else:\n",
    "        md += 'type: \"Talk\"\\n'\n",
    "    \n",
    "    md += \"permalink: /talks/\" + html_filename + \"\\n\"\n",
    "    \n",
    "    if len(str(item.venue)) > 3:\n",
    "        md += 'venue: \"' + item.venue + '\"\\n'\n",
    "        \n",
    "    if len(str(item.location)) > 3:\n",
    "        md += \"date: \" + str(item.date) + \"\\n\"\n",
    "    \n",
    "    if len(str(item.location)) > 3:\n",
    "        md += 'location: \"' + str(item.location) + '\"\\n'\n",
    "           \n",
    "    md += \"---\\n\"\n",
    "    \n",
    "    \n",
    "    if len(str(item.pdf_url)) > 3:\n",
    "        md += \"\\n[Get pdf here](\" + item.pdf_url + \")\\n\" \n",
    "    \n",
    "    if len(str(item.md_url)) > 3:\n",
    "        md += \"\\n[Get markdown here](\" + item.md_url + \")\\n\" \n",
    "    \n",
    "    if len(str(item.description)) > 3:\n",
    "        md += \"\\n\" + html_escape(item.description) + \"\\n\"\n",
    "        \n",
    "        \n",
    "    md_filename = os.path.basename(md_filename)\n",
    "    #print(md)\n",
    "    \n",
    "    with open(\"../_talks/\" + md_filename, 'w') as f:\n",
    "        f.write(md)"
   ]
  },
  {
   "cell_type": "markdown",
   "metadata": {},
   "source": [
    "These files are in the talks directory, one directory below where we're working from."
   ]
  },
  {
   "cell_type": "code",
   "execution_count": 6,
   "metadata": {
    "collapsed": false,
    "deletable": true,
    "editable": true
   },
   "outputs": [
    {
     "name": "stdout",
     "output_type": "stream",
     "text": [
      " ������ D �еľ��� �¼Ӿ�\n",
      " �������к��� 9A60-C698\n",
      "\n",
      " d:\\Mywork\\DuskNgai.github.io\\_talks ��Ŀ¼\n",
      "\n",
      "2023/04/03  17:05    <DIR>          .\n",
      "2023/04/03  15:57    <DIR>          ..\n",
      "2023/04/03  17:06               396 2022-08-19-tutorial-1.md\n",
      "2023/04/03  17:06               484 2022-08-26-tutorial-1.md\n",
      "2023/04/03  17:06               489 2022-12-01-talk-1.md\n",
      "               3 ���ļ�          1,369 �ֽ�\n",
      "               2 ��Ŀ¼ 517,278,343,168 �����ֽ�\n"
     ]
    }
   ],
   "source": [
    "%ls ..\\_talks"
   ]
  },
  {
   "cell_type": "code",
   "execution_count": 7,
   "metadata": {
    "collapsed": false,
    "deletable": true,
    "editable": true
   },
   "outputs": [
    {
     "name": "stdout",
     "output_type": "stream",
     "text": [
      "\u001b[1;33m-\u001b[0m\u001b[1;33m-\u001b[0m\u001b[1;33m-\u001b[0m\u001b[1;33m\n",
      "\u001b[0m\u001b[0mtitle\u001b[0m\u001b[1;33m:\u001b[0m \u001b[1;34m\"Talk on Neural Radiance Caching\"\u001b[0m\u001b[1;33m\n",
      "\u001b[0m\u001b[0mcollection\u001b[0m\u001b[1;33m:\u001b[0m \u001b[0mtalks\u001b[0m\u001b[1;33m\n",
      "\u001b[0m\u001b[0mtype\u001b[0m\u001b[1;33m:\u001b[0m \u001b[1;34m\"Talk\"\u001b[0m\u001b[1;33m\n",
      "\u001b[0m\u001b[0mpermalink\u001b[0m\u001b[1;33m:\u001b[0m \u001b[1;33m/\u001b[0m\u001b[0mtalks\u001b[0m\u001b[1;33m/\u001b[0m\u001b[1;36m2022\u001b[0m\u001b[1;33m-\u001b[0m\u001b[1;36m12\u001b[0m\u001b[1;33m-\u001b[0m\u001b[1;36m0\u001b[0m\u001b[1;36m1\u001b[0m\u001b[1;33m-\u001b[0m\u001b[0mtalk\u001b[0m\u001b[1;33m-\u001b[0m\u001b[1;36m1\u001b[0m\u001b[1;33m\n",
      "\u001b[0m\u001b[0mvenue\u001b[0m\u001b[1;33m:\u001b[0m \u001b[1;34m\"ShanghaiTech\"\u001b[0m\u001b[1;33m\n",
      "\u001b[0m\u001b[0mdate\u001b[0m\u001b[1;33m:\u001b[0m \u001b[1;36m2022\u001b[0m\u001b[1;33m-\u001b[0m\u001b[1;36m12\u001b[0m\u001b[1;33m-\u001b[0m\u001b[1;36m0\u001b[0m\u001b[1;36m1\u001b[0m\u001b[1;33m\n",
      "\u001b[0m\u001b[0mlocation\u001b[0m\u001b[1;33m:\u001b[0m \u001b[1;34m\"Shanghai\"\u001b[0m\u001b[1;33m\n",
      "\u001b[0m\u001b[1;33m-\u001b[0m\u001b[1;33m-\u001b[0m\u001b[1;33m-\u001b[0m\u001b[1;33m\n",
      "\u001b[0m\u001b[1;33m\n",
      "\u001b[0m\u001b[1;33m[\u001b[0m\u001b[0mGet\u001b[0m \u001b[0mpdf\u001b[0m \u001b[0mhere\u001b[0m\u001b[1;33m]\u001b[0m\u001b[1;33m(\u001b[0m\u001b[0mhttps\u001b[0m\u001b[1;33m:\u001b[0m\u001b[1;33m//\u001b[0m\u001b[0mDuskNgai\u001b[0m\u001b[1;33m.\u001b[0m\u001b[0mgithub\u001b[0m\u001b[1;33m.\u001b[0m\u001b[0mio\u001b[0m\u001b[1;33m/\u001b[0m\u001b[0mfiles\u001b[0m\u001b[1;33m/\u001b[0m\u001b[0mReal\u001b[0m\u001b[1;33m-\u001b[0m\u001b[0mtime\u001b[0m \u001b[0mNeural\u001b[0m \u001b[0mRadiance\u001b[0m \u001b[0mCaching\u001b[0m \u001b[1;32mfor\u001b[0m \u001b[0mPath\u001b[0m \u001b[0mTracing\u001b[0m\u001b[1;33m.\u001b[0m\u001b[0mpdf\u001b[0m\u001b[1;33m)\u001b[0m\u001b[1;33m\n",
      "\u001b[0m\u001b[1;33m\n",
      "\u001b[0m\u001b[1;33m[\u001b[0m\u001b[0mGet\u001b[0m \u001b[0mmarkdown\u001b[0m \u001b[0mhere\u001b[0m\u001b[1;33m]\u001b[0m\u001b[1;33m(\u001b[0m\u001b[0mhttps\u001b[0m\u001b[1;33m:\u001b[0m\u001b[1;33m//\u001b[0m\u001b[0mDuskNgai\u001b[0m\u001b[1;33m.\u001b[0m\u001b[0mgithub\u001b[0m\u001b[1;33m.\u001b[0m\u001b[0mio\u001b[0m\u001b[1;33m/\u001b[0m\u001b[0mfiles\u001b[0m\u001b[1;33m/\u001b[0m\u001b[0mReal\u001b[0m\u001b[1;33m-\u001b[0m\u001b[0mtime\u001b[0m \u001b[0mNeural\u001b[0m \u001b[0mRadiance\u001b[0m \u001b[0mCaching\u001b[0m \u001b[1;32mfor\u001b[0m \u001b[0mPath\u001b[0m \u001b[0mTracing\u001b[0m\u001b[1;33m.\u001b[0m\u001b[0mmd\u001b[0m\u001b[1;33m)\u001b[0m\u001b[1;33m\n",
      "\u001b[0m\u001b[1;33m\n",
      "\u001b[0m\u001b[0mA\u001b[0m \u001b[0mtask\u001b[0m \u001b[0magnostic\u001b[0m \u001b[0mnerual\u001b[0m \u001b[0mnetwork\u001b[0m \u001b[0mstorage\u001b[0m \u001b[0mreplacing\u001b[0m \u001b[1;32mfor\u001b[0m \u001b[0mcombersome\u001b[0m \u001b[0mcaching\u001b[0m \u001b[0mstructure\u001b[0m\u001b[1;33m.\u001b[0m\u001b[1;33m\u001b[0m\u001b[1;33m\u001b[0m\u001b[0m\n"
     ]
    }
   ],
   "source": [
    "%pycat ../_talks/2022-12-01-talk-1.md"
   ]
  }
 ],
 "metadata": {
  "kernelspec": {
   "display_name": "base",
   "language": "python",
   "name": "python3"
  },
  "language_info": {
   "codemirror_mode": {
    "name": "ipython",
    "version": 3
   },
   "file_extension": ".py",
   "mimetype": "text/x-python",
   "name": "python",
   "nbconvert_exporter": "python",
   "pygments_lexer": "ipython3",
   "version": "3.9.13"
  },
  "vscode": {
   "interpreter": {
    "hash": "49cb93f377a7abe7414b7b0f21fb3017538004a126cf690fb524202736b7fb92"
   }
  }
 },
 "nbformat": 4,
 "nbformat_minor": 0
}
